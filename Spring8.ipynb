{
 "cells": [
  {
   "cell_type": "markdown",
   "metadata": {},
   "source": [
    "## Spring 8 Nivel 1: ¿Que no te cuantifico?...\n",
    "\n",
    "Usaremos los datos de deporte anteriores para dar valores númericos a variables cualitativas.\n"
   ]
  },
  {
   "cell_type": "code",
   "execution_count": 151,
   "metadata": {},
   "outputs": [],
   "source": [
    "import pandas as pd\n",
    "import matplotlib.pyplot as plt \n",
    "from scipy import stats\n",
    "import seaborn as sns\n"
   ]
  },
  {
   "cell_type": "code",
   "execution_count": 152,
   "metadata": {},
   "outputs": [
    {
     "name": "stdout",
     "output_type": "stream",
     "text": [
      "['SP1(0).csv', 'SP1(1).csv', 'SP1(2).csv', 'SP1(3).csv', 'SP1(4).csv', 'SP1(5).csv', 'SP1(6).csv', 'SP1(7).csv', 'SP1(8).csv', 'SP1(9).csv', 'SP1(10).csv', 'SP1(11).csv', 'SP1(12).csv', 'SP1(13).csv', 'SP1(14).csv', 'SP1(15).csv', 'SP1(16).csv', 'SP1(17).csv', 'SP1(18).csv', 'SP1(19).csv', 'SP1(20).csv', 'SP1(21).csv', 'SP1(22).csv', 'SP1(23).csv', 'SP1(24).csv', 'SP1(25).csv', 'SP1(26).csv', 'SP1(27).csv', 'SP1(28).csv', 'SP1(29).csv', 'SP1(30).csv']\n"
     ]
    }
   ],
   "source": [
    "archivos=list()\n",
    "for i in range(31):\n",
    "    archivos.append(\"SP1(\"+str(i)+\").csv\")\n",
    "print(archivos)"
   ]
  },
  {
   "cell_type": "code",
   "execution_count": 153,
   "metadata": {},
   "outputs": [],
   "source": [
    "datos_liga=pd.read_csv(\"./datos/\"+archivos[0])"
   ]
  },
  {
   "cell_type": "code",
   "execution_count": 154,
   "metadata": {},
   "outputs": [],
   "source": [
    "for i in range(1,25):\n",
    "    temp=pd.read_csv(\"./datos/\"+archivos[i])\n",
    "    datos_liga=datos_liga.append(temp,ignore_index=True)"
   ]
  },
  {
   "cell_type": "code",
   "execution_count": 155,
   "metadata": {},
   "outputs": [
    {
     "data": {
      "text/plain": [
       "<bound method NDFrame.describe of       Div        Date   Time     HomeTeam     AwayTeam  FTHG  FTAG FTR  HTHG  \\\n",
       "0     SP1  13/08/2021  20:00     Valencia       Getafe     1     0   H     1   \n",
       "1     SP1  14/08/2021  18:30        Cadiz      Levante     1     1   D     0   \n",
       "2     SP1  14/08/2021  18:30     Mallorca        Betis     1     1   D     1   \n",
       "3     SP1  14/08/2021  21:00       Alaves  Real Madrid     1     4   A     0   \n",
       "4     SP1  14/08/2021  21:00      Osasuna      Espanol     0     0   D     0   \n",
       "...   ...         ...    ...          ...          ...   ...   ...  ..   ...   \n",
       "9495  SP1    18/05/08    NaN  Real Madrid      Levante     5     2   H     3   \n",
       "9496  SP1    18/05/08    NaN   Recreativo   Valladolid     1     1   D     0   \n",
       "9497  SP1    18/05/08    NaN    Santander      Osasuna     1     0   H     0   \n",
       "9498  SP1    18/05/08    NaN      Sevilla   Ath Bilbao     4     1   H     1   \n",
       "9499  SP1    18/05/08    NaN     Valencia   Ath Madrid     3     1   H     2   \n",
       "\n",
       "      HTAG  ...   SJA   GBH  GBD    GBA   BSH   BSD    BSA   SBH  SBD    SBA  \n",
       "0        0  ...   NaN   NaN  NaN    NaN   NaN   NaN    NaN   NaN  NaN    NaN  \n",
       "1        1  ...   NaN   NaN  NaN    NaN   NaN   NaN    NaN   NaN  NaN    NaN  \n",
       "2        0  ...   NaN   NaN  NaN    NaN   NaN   NaN    NaN   NaN  NaN    NaN  \n",
       "3        0  ...   NaN   NaN  NaN    NaN   NaN   NaN    NaN   NaN  NaN    NaN  \n",
       "4        0  ...   NaN   NaN  NaN    NaN   NaN   NaN    NaN   NaN  NaN    NaN  \n",
       "...    ...  ...   ...   ...  ...    ...   ...   ...    ...   ...  ...    ...  \n",
       "9495     0  ...  21.0  1.15  6.5  12.00  1.14  6.50  15.00  1.13  6.5  17.00  \n",
       "9496     1  ...   3.6  2.10  3.0   3.60  2.10  3.10   3.30  2.10  3.1   3.30  \n",
       "9497     0  ...   3.0  2.20  3.5   2.75  2.25  3.40   2.75  2.25  3.5   2.70  \n",
       "9498     1  ...   7.0  1.45  4.0   6.25  1.44  3.75   7.00  1.45  4.0   6.25  \n",
       "9499     0  ...   2.5  2.75  3.1   2.40  2.75  3.10   2.40  2.55  3.1   2.55  \n",
       "\n",
       "[9500 rows x 138 columns]>"
      ]
     },
     "execution_count": 155,
     "metadata": {},
     "output_type": "execute_result"
    }
   ],
   "source": [
    "datos_liga.describe\n"
   ]
  },
  {
   "cell_type": "markdown",
   "metadata": {},
   "source": [
    "### Definiendo la pregunta.\n",
    "\n",
    "En este caso nos preguntaremos , de todas las temporadas archivadas que tenemos ¿Quien sería el mejor equipo , el más regular?  \n",
    "Para responder a esta pregunta usaremos la columna _FTR_.  \n",
    "Los valores de la columna _FTR_ nos indican de forma cualitativa el resultado del partido:\n",
    " H=Victoria del equipo local  \n",
    " D= empate  \n",
    " A=Victoria del equipo visitante  \n",
    "A estas variable les asignaremos un valor númerico, según la norma actual, de 3 puntos para el equipo que gana , 1 por empate y 0 para el que pierde.\n"
   ]
  },
  {
   "cell_type": "markdown",
   "metadata": {},
   "source": [
    "#### Seleccionando datos\n",
    "\n",
    "Como venimos haciendo nos olvidamos de toda la sección de apuestas , no nos interesan ni fechas ni horarios, y solo tenemos interés por los resultados finales. con todo ello crearemos un nuevo DataFrame con los campos que nos sean útiles para nuestros objetivos."
   ]
  },
  {
   "cell_type": "code",
   "execution_count": 156,
   "metadata": {},
   "outputs": [],
   "source": [
    "datos_puntos_totales=datos_liga[[\"HomeTeam\",\"AwayTeam\",\"FTR\"]]\n"
   ]
  },
  {
   "cell_type": "code",
   "execution_count": 157,
   "metadata": {},
   "outputs": [
    {
     "data": {
      "text/plain": [
       "HomeTeam    object\n",
       "AwayTeam    object\n",
       "FTR         object\n",
       "dtype: object"
      ]
     },
     "execution_count": 157,
     "metadata": {},
     "output_type": "execute_result"
    }
   ],
   "source": [
    "datos_puntos_totales.dtypes\n"
   ]
  },
  {
   "cell_type": "code",
   "execution_count": 158,
   "metadata": {},
   "outputs": [],
   "source": [
    "datos_puntos_totales=pd.get_dummies(datos_puntos_totales,columns=[\"FTR\"])"
   ]
  },
  {
   "cell_type": "markdown",
   "metadata": {},
   "source": [
    "Con esto obtendremos una _\"tabla de la verdad\"_ de nuestra variable, de hecho podríamos ahorrarnos una de ellas ya que al ser complemetarias , si dos de las otras tiene valor 0 el valor de la restante debe ser 1.No lo haremos así para simplificar.\n"
   ]
  },
  {
   "cell_type": "markdown",
   "metadata": {},
   "source": [
    "Para responder a nuestra pregunta podemos obtar por 2 estrategias:\n",
    "    \n",
    "    1-Transformar las nueas columnas a boolean , y con estas tablas de la verdad , ir operando/filtrando los valores hasta responder la pregunta.\n",
    "    2-Cambiar las variables númericas a unas que nos interesen más y trabajar directamente con las columnas.\n",
    "\n",
    "En un proyecto más complejo y con más variables , la primera opción seguramente nos daría mas posibilidades de análisis. En nuestro caso particular , es más sencillo la via directa de la segunda opción.\n",
    "\n"
   ]
  },
  {
   "cell_type": "code",
   "execution_count": 159,
   "metadata": {},
   "outputs": [
    {
     "data": {
      "text/plain": [
       "<bound method NDFrame.describe of          HomeTeam     AwayTeam  FTR_A  FTR_D  FTR_H\n",
       "0        Valencia       Getafe      0      0      1\n",
       "1           Cadiz      Levante      0      1      0\n",
       "2        Mallorca        Betis      0      1      0\n",
       "3          Alaves  Real Madrid      1      0      0\n",
       "4         Osasuna      Espanol      0      1      0\n",
       "...           ...          ...    ...    ...    ...\n",
       "9495  Real Madrid      Levante      0      0      1\n",
       "9496   Recreativo   Valladolid      0      1      0\n",
       "9497    Santander      Osasuna      0      0      1\n",
       "9498      Sevilla   Ath Bilbao      0      0      1\n",
       "9499     Valencia   Ath Madrid      0      0      1\n",
       "\n",
       "[9500 rows x 5 columns]>"
      ]
     },
     "execution_count": 159,
     "metadata": {},
     "output_type": "execute_result"
    }
   ],
   "source": [
    "datos_puntos_totales.describe"
   ]
  },
  {
   "cell_type": "markdown",
   "metadata": {},
   "source": [
    "En los partidos ganados , reemplazamos los unos por 3 :"
   ]
  },
  {
   "cell_type": "code",
   "execution_count": 160,
   "metadata": {},
   "outputs": [],
   "source": [
    "datos_puntos_totales[\"FTR_A\"]=datos_puntos_totales[\"FTR_A\"].replace([1],[3])"
   ]
  },
  {
   "cell_type": "code",
   "execution_count": 161,
   "metadata": {},
   "outputs": [],
   "source": [
    "datos_puntos_totales[\"FTR_H\"]=datos_puntos_totales[\"FTR_H\"].replace([1],[3])"
   ]
  },
  {
   "cell_type": "code",
   "execution_count": 162,
   "metadata": {},
   "outputs": [
    {
     "data": {
      "text/plain": [
       "<bound method NDFrame.describe of          HomeTeam     AwayTeam  FTR_A  FTR_D  FTR_H\n",
       "0        Valencia       Getafe      0      0      3\n",
       "1           Cadiz      Levante      0      1      0\n",
       "2        Mallorca        Betis      0      1      0\n",
       "3          Alaves  Real Madrid      3      0      0\n",
       "4         Osasuna      Espanol      0      1      0\n",
       "...           ...          ...    ...    ...    ...\n",
       "9495  Real Madrid      Levante      0      0      3\n",
       "9496   Recreativo   Valladolid      0      1      0\n",
       "9497    Santander      Osasuna      0      0      3\n",
       "9498      Sevilla   Ath Bilbao      0      0      3\n",
       "9499     Valencia   Ath Madrid      0      0      3\n",
       "\n",
       "[9500 rows x 5 columns]>"
      ]
     },
     "execution_count": 162,
     "metadata": {},
     "output_type": "execute_result"
    }
   ],
   "source": [
    "datos_puntos_totales.describe"
   ]
  },
  {
   "cell_type": "markdown",
   "metadata": {},
   "source": [
    "Ahora sumaremos la columna de empate a las otras 2 y tendremos los puntos de cada partido de los equipos visitantes y locales"
   ]
  },
  {
   "cell_type": "code",
   "execution_count": 163,
   "metadata": {},
   "outputs": [],
   "source": [
    "datos_puntos_totales[\"FTR_A\"]=datos_puntos_totales[\"FTR_A\"]+datos_puntos_totales[\"FTR_D\"]"
   ]
  },
  {
   "cell_type": "code",
   "execution_count": 164,
   "metadata": {},
   "outputs": [],
   "source": [
    "datos_puntos_totales[\"FTR_H\"]=datos_puntos_totales[\"FTR_H\"]+datos_puntos_totales[\"FTR_D\"]"
   ]
  },
  {
   "cell_type": "code",
   "execution_count": 165,
   "metadata": {},
   "outputs": [
    {
     "data": {
      "text/plain": [
       "<bound method NDFrame.describe of          HomeTeam     AwayTeam  FTR_A  FTR_D  FTR_H\n",
       "0        Valencia       Getafe      0      0      3\n",
       "1           Cadiz      Levante      1      1      1\n",
       "2        Mallorca        Betis      1      1      1\n",
       "3          Alaves  Real Madrid      3      0      0\n",
       "4         Osasuna      Espanol      1      1      1\n",
       "...           ...          ...    ...    ...    ...\n",
       "9495  Real Madrid      Levante      0      0      3\n",
       "9496   Recreativo   Valladolid      1      1      1\n",
       "9497    Santander      Osasuna      0      0      3\n",
       "9498      Sevilla   Ath Bilbao      0      0      3\n",
       "9499     Valencia   Ath Madrid      0      0      3\n",
       "\n",
       "[9500 rows x 5 columns]>"
      ]
     },
     "execution_count": 165,
     "metadata": {},
     "output_type": "execute_result"
    }
   ],
   "source": [
    "datos_puntos_totales.describe"
   ]
  },
  {
   "cell_type": "markdown",
   "metadata": {},
   "source": [
    "Separamos en dos _df_ según sea local o visitante y operamos con las columnas. Después sólo nos queda volver a unir toda la información y agruparla por equipos."
   ]
  },
  {
   "cell_type": "code",
   "execution_count": 166,
   "metadata": {},
   "outputs": [],
   "source": [
    "resultados_local=datos_puntos_totales[[\"HomeTeam\",\"FTR_H\"]]\n",
    "resultados_visit=datos_puntos_totales[[\"AwayTeam\",\"FTR_A\"]]\n",
    "resultados_local=resultados_local.rename(columns={\"HomeTeam\":\"Equipo\",\"FTR_H\":\"Puntos\"})\n",
    "resultados_visit=resultados_visit.rename(columns={\"AwayTeam\":\"Equipo\",\"FTR_A\":\"Puntos\"})"
   ]
  },
  {
   "cell_type": "code",
   "execution_count": 167,
   "metadata": {},
   "outputs": [
    {
     "data": {
      "text/plain": [
       "<bound method NDFrame.describe of            Equipo  Puntos\n",
       "0        Valencia       3\n",
       "1           Cadiz       1\n",
       "2        Mallorca       1\n",
       "3          Alaves       0\n",
       "4         Osasuna       1\n",
       "...           ...     ...\n",
       "9495  Real Madrid       3\n",
       "9496   Recreativo       1\n",
       "9497    Santander       3\n",
       "9498      Sevilla       3\n",
       "9499     Valencia       3\n",
       "\n",
       "[9500 rows x 2 columns]>"
      ]
     },
     "execution_count": 167,
     "metadata": {},
     "output_type": "execute_result"
    }
   ],
   "source": [
    "resultados_local.describe"
   ]
  },
  {
   "cell_type": "code",
   "execution_count": 168,
   "metadata": {},
   "outputs": [],
   "source": [
    "clasificacion=pd.concat([resultados_local,resultados_visit],ignore_index=True)\n"
   ]
  },
  {
   "cell_type": "code",
   "execution_count": 169,
   "metadata": {},
   "outputs": [
    {
     "data": {
      "text/plain": [
       "<bound method NDFrame.describe of            Equipo  Puntos\n",
       "0        Valencia       3\n",
       "1           Cadiz       1\n",
       "2        Mallorca       1\n",
       "3          Alaves       0\n",
       "4         Osasuna       1\n",
       "...           ...     ...\n",
       "18995     Levante       0\n",
       "18996  Valladolid       1\n",
       "18997     Osasuna       0\n",
       "18998  Ath Bilbao       0\n",
       "18999  Ath Madrid       0\n",
       "\n",
       "[19000 rows x 2 columns]>"
      ]
     },
     "execution_count": 169,
     "metadata": {},
     "output_type": "execute_result"
    }
   ],
   "source": [
    "clasificacion.describe"
   ]
  },
  {
   "cell_type": "markdown",
   "metadata": {},
   "source": [
    "resultados_local_2=datos_puntos_totales.groupby([\"HomeTeam\"]).sum()"
   ]
  },
  {
   "cell_type": "code",
   "execution_count": 170,
   "metadata": {},
   "outputs": [],
   "source": [
    "clasificacion=clasificacion.groupby([\"Equipo\"]).sum()\n"
   ]
  },
  {
   "cell_type": "code",
   "execution_count": 171,
   "metadata": {},
   "outputs": [
    {
     "data": {
      "text/html": [
       "<div>\n",
       "<style scoped>\n",
       "    .dataframe tbody tr th:only-of-type {\n",
       "        vertical-align: middle;\n",
       "    }\n",
       "\n",
       "    .dataframe tbody tr th {\n",
       "        vertical-align: top;\n",
       "    }\n",
       "\n",
       "    .dataframe thead th {\n",
       "        text-align: right;\n",
       "    }\n",
       "</style>\n",
       "<table border=\"1\" class=\"dataframe\">\n",
       "  <thead>\n",
       "    <tr style=\"text-align: right;\">\n",
       "      <th></th>\n",
       "      <th>Puntos</th>\n",
       "    </tr>\n",
       "    <tr>\n",
       "      <th>Equipo</th>\n",
       "      <th></th>\n",
       "    </tr>\n",
       "  </thead>\n",
       "  <tbody>\n",
       "    <tr>\n",
       "      <th>Barcelona</th>\n",
       "      <td>2219</td>\n",
       "    </tr>\n",
       "    <tr>\n",
       "      <th>Real Madrid</th>\n",
       "      <td>2185</td>\n",
       "    </tr>\n",
       "    <tr>\n",
       "      <th>Ath Madrid</th>\n",
       "      <td>1843</td>\n",
       "    </tr>\n",
       "    <tr>\n",
       "      <th>Sevilla</th>\n",
       "      <td>1578</td>\n",
       "    </tr>\n",
       "    <tr>\n",
       "      <th>Valencia</th>\n",
       "      <td>1457</td>\n",
       "    </tr>\n",
       "    <tr>\n",
       "      <th>Villarreal</th>\n",
       "      <td>1365</td>\n",
       "    </tr>\n",
       "    <tr>\n",
       "      <th>Ath Bilbao</th>\n",
       "      <td>1340</td>\n",
       "    </tr>\n",
       "    <tr>\n",
       "      <th>Sociedad</th>\n",
       "      <td>1196</td>\n",
       "    </tr>\n",
       "    <tr>\n",
       "      <th>Getafe</th>\n",
       "      <td>1045</td>\n",
       "    </tr>\n",
       "    <tr>\n",
       "      <th>Espanol</th>\n",
       "      <td>1040</td>\n",
       "    </tr>\n",
       "  </tbody>\n",
       "</table>\n",
       "</div>"
      ],
      "text/plain": [
       "             Puntos\n",
       "Equipo             \n",
       "Barcelona      2219\n",
       "Real Madrid    2185\n",
       "Ath Madrid     1843\n",
       "Sevilla        1578\n",
       "Valencia       1457\n",
       "Villarreal     1365\n",
       "Ath Bilbao     1340\n",
       "Sociedad       1196\n",
       "Getafe         1045\n",
       "Espanol        1040"
      ]
     },
     "execution_count": 171,
     "metadata": {},
     "output_type": "execute_result"
    }
   ],
   "source": [
    "clasificacion.sort_values(by=[\"Puntos\"],ascending=False)[:10]"
   ]
  },
  {
   "cell_type": "markdown",
   "metadata": {},
   "source": [
    "### Estandarizando\n",
    "Cogemos los datos que habiamos empleado en el Spring 7 para nuestras hipótesis."
   ]
  },
  {
   "cell_type": "code",
   "execution_count": 172,
   "metadata": {},
   "outputs": [],
   "source": [
    "datos_hipotesis=datos_liga[[\"FTHG\",\"FTAG\"]]\n",
    "datos_hipotesis=datos_hipotesis.rename(columns={\"FTHG\":\"Goles Local\",\"FTAG\":\"Goles visitante\"})\n",
    "datos_hipotesis[\"dif_goles\"]=datos_liga[\"FTHG\"]-datos_liga[\"FTAG\"]\n"
   ]
  },
  {
   "cell_type": "code",
   "execution_count": 173,
   "metadata": {},
   "outputs": [
    {
     "data": {
      "text/html": [
       "<div>\n",
       "<style scoped>\n",
       "    .dataframe tbody tr th:only-of-type {\n",
       "        vertical-align: middle;\n",
       "    }\n",
       "\n",
       "    .dataframe tbody tr th {\n",
       "        vertical-align: top;\n",
       "    }\n",
       "\n",
       "    .dataframe thead th {\n",
       "        text-align: right;\n",
       "    }\n",
       "</style>\n",
       "<table border=\"1\" class=\"dataframe\">\n",
       "  <thead>\n",
       "    <tr style=\"text-align: right;\">\n",
       "      <th></th>\n",
       "      <th>Goles Local</th>\n",
       "      <th>Goles visitante</th>\n",
       "      <th>dif_goles</th>\n",
       "    </tr>\n",
       "  </thead>\n",
       "  <tbody>\n",
       "    <tr>\n",
       "      <th>count</th>\n",
       "      <td>9500.000000</td>\n",
       "      <td>9500.000000</td>\n",
       "      <td>9500.000000</td>\n",
       "    </tr>\n",
       "    <tr>\n",
       "      <th>mean</th>\n",
       "      <td>1.571789</td>\n",
       "      <td>1.135684</td>\n",
       "      <td>0.436105</td>\n",
       "    </tr>\n",
       "    <tr>\n",
       "      <th>std</th>\n",
       "      <td>1.352731</td>\n",
       "      <td>1.145858</td>\n",
       "      <td>1.831237</td>\n",
       "    </tr>\n",
       "    <tr>\n",
       "      <th>min</th>\n",
       "      <td>0.000000</td>\n",
       "      <td>0.000000</td>\n",
       "      <td>-8.000000</td>\n",
       "    </tr>\n",
       "    <tr>\n",
       "      <th>25%</th>\n",
       "      <td>1.000000</td>\n",
       "      <td>0.000000</td>\n",
       "      <td>-1.000000</td>\n",
       "    </tr>\n",
       "    <tr>\n",
       "      <th>50%</th>\n",
       "      <td>1.000000</td>\n",
       "      <td>1.000000</td>\n",
       "      <td>0.000000</td>\n",
       "    </tr>\n",
       "    <tr>\n",
       "      <th>75%</th>\n",
       "      <td>2.000000</td>\n",
       "      <td>2.000000</td>\n",
       "      <td>1.000000</td>\n",
       "    </tr>\n",
       "    <tr>\n",
       "      <th>max</th>\n",
       "      <td>10.000000</td>\n",
       "      <td>8.000000</td>\n",
       "      <td>8.000000</td>\n",
       "    </tr>\n",
       "  </tbody>\n",
       "</table>\n",
       "</div>"
      ],
      "text/plain": [
       "       Goles Local  Goles visitante    dif_goles\n",
       "count  9500.000000      9500.000000  9500.000000\n",
       "mean      1.571789         1.135684     0.436105\n",
       "std       1.352731         1.145858     1.831237\n",
       "min       0.000000         0.000000    -8.000000\n",
       "25%       1.000000         0.000000    -1.000000\n",
       "50%       1.000000         1.000000     0.000000\n",
       "75%       2.000000         2.000000     1.000000\n",
       "max      10.000000         8.000000     8.000000"
      ]
     },
     "execution_count": 173,
     "metadata": {},
     "output_type": "execute_result"
    }
   ],
   "source": [
    "datos_hipotesis.describe()"
   ]
  },
  {
   "cell_type": "markdown",
   "metadata": {},
   "source": [
    "En el ejercicio del Spring7 , partimos de la suposición de que nuestra distribución era asumible a una distribución normal.  \n",
    "El tratamiento más correcto hubiera sido proceder a estandarizar los datos , es decir aplicar unos factores a los datos para que tuvieramos una distribución normal y , por lo tanto pudieramos usar las herramietnas estadísticas correctamente.\n",
    "\n",
    "Esta Estandarizacion la conseguiriamos a traves de la fórmula :  \n",
    "    normalización = ( x – media ) / desviación típica\n",
    "Como podemos deducir de la formula, esta transformacion hace que los datos se centren en el 0 y que la desviación se equipare a 1.Para ello usaremos la función _\"StandardScaler\"_ de l alibreria sklearn.\n"
   ]
  },
  {
   "cell_type": "markdown",
   "metadata": {},
   "source": [
    "Creamos una matriz de factores para convertir nuestros datos en una distrubucion normal"
   ]
  },
  {
   "cell_type": "code",
   "execution_count": 174,
   "metadata": {},
   "outputs": [
    {
     "data": {
      "text/plain": [
       "StandardScaler()"
      ]
     },
     "execution_count": 174,
     "metadata": {},
     "output_type": "execute_result"
    }
   ],
   "source": [
    "\n",
    "from sklearn.preprocessing import StandardScaler\n",
    "scaler = StandardScaler().fit(datos_hipotesis)\n",
    "scaler"
   ]
  },
  {
   "cell_type": "code",
   "execution_count": 175,
   "metadata": {},
   "outputs": [
    {
     "data": {
      "text/plain": [
       "array([1.57178947, 1.13568421, 0.43610526])"
      ]
     },
     "execution_count": 175,
     "metadata": {},
     "output_type": "execute_result"
    }
   ],
   "source": [
    "scaler.mean_"
   ]
  },
  {
   "cell_type": "code",
   "execution_count": 176,
   "metadata": {},
   "outputs": [
    {
     "data": {
      "text/plain": [
       "array([1.35265974, 1.14579795, 1.83114045])"
      ]
     },
     "execution_count": 176,
     "metadata": {},
     "output_type": "execute_result"
    }
   ],
   "source": [
    "scaler.scale_\n"
   ]
  },
  {
   "cell_type": "markdown",
   "metadata": {},
   "source": [
    "Aplicamos los factores y comprobamos que se ha producido la estandarización (media a pasado a ser 0 y la desviación standard 1)."
   ]
  },
  {
   "cell_type": "code",
   "execution_count": 177,
   "metadata": {},
   "outputs": [],
   "source": [
    "x_scaled=scaler.transform(datos_hipotesis)"
   ]
  },
  {
   "cell_type": "code",
   "execution_count": 178,
   "metadata": {},
   "outputs": [
    {
     "data": {
      "text/plain": [
       "array([-9.87280433e-17, -7.47939722e-17, -8.04035201e-18])"
      ]
     },
     "execution_count": 178,
     "metadata": {},
     "output_type": "execute_result"
    }
   ],
   "source": [
    "x_scaled.mean(axis=0)"
   ]
  },
  {
   "cell_type": "code",
   "execution_count": 179,
   "metadata": {},
   "outputs": [
    {
     "data": {
      "text/plain": [
       "array([1., 1., 1.])"
      ]
     },
     "execution_count": 179,
     "metadata": {},
     "output_type": "execute_result"
    }
   ],
   "source": [
    "x_scaled.std(axis=0)"
   ]
  },
  {
   "cell_type": "markdown",
   "metadata": {},
   "source": [
    "Lo representamos gráficamente:"
   ]
  },
  {
   "cell_type": "code",
   "execution_count": 180,
   "metadata": {},
   "outputs": [
    {
     "data": {
      "text/plain": [
       "<seaborn.axisgrid.FacetGrid at 0x1962d556580>"
      ]
     },
     "execution_count": 180,
     "metadata": {},
     "output_type": "execute_result"
    },
    {
     "data": {
      "image/png": "[encoded data removed]",
      "text/plain": [
       "<Figure size 360x360 with 1 Axes>"
      ]
     },
     "metadata": {
      "needs_background": "light"
     },
     "output_type": "display_data"
    },
    {
     "data": {
      "image/png": "[encoded data removed]",
      "text/plain": [
       "<Figure size 360x360 with 1 Axes>"
      ]
     },
     "metadata": {
      "needs_background": "light"
     },
     "output_type": "display_data"
    }
   ],
   "source": [
    "sns.displot(x_scaled[:,2])\n",
    "sns.displot(datos_hipotesis[\"dif_goles\"])\n",
    "\n"
   ]
  },
  {
   "cell_type": "markdown",
   "metadata": {},
   "source": [
    "No se observa una gran diferencia , lo cual apoya nuestra aproximación en el Spring7 acerca de que era una distribución _cuasi-normal_. Lo que si podemos observar es como la distribución de los datos se han desplazado para que se centre en el 0.  \n",
    "La estandarización no sólo nos permite \"transformar\" nuestra distibución , especialmente si es gaussiana,a una distribución normal y así poder usar ciertas herramientas estadisticas ,sino  que, también nos permite combinar conjuntamente datos/variables de diferentes procedencias ,dotándolas de cierta homogeneidad que permita trabajar con ellas."
   ]
  }
 ],
 "metadata": {
  "interpreter": {
   "hash": "7a4880536bc750f262d1b458e4fd4d611315d3098d58b77bd9c89b3237b9ab47"
  },
  "kernelspec": {
   "display_name": "Python 3.9.7 ('base')",
   "language": "python",
   "name": "python3"
  },
  "language_info": {
   "codemirror_mode": {
    "name": "ipython",
    "version": 3
   },
   "file_extension": ".py",
   "mimetype": "text/x-python",
   "name": "python",
   "nbconvert_exporter": "python",
   "pygments_lexer": "ipython3",
   "version": "3.9.7"
  },
  "orig_nbformat": 4
 },
 "nbformat": 4,
 "nbformat_minor": 2
}
