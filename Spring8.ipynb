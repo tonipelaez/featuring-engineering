{
 "cells": [
  {
   "cell_type": "markdown",
   "metadata": {},
   "source": [
    "## Spring 8: Que no te cuantifico?...\n",
    "\n",
    "Usaremos los datos de deporte anteriores para dar valores númericos a variables cualitativas.\n"
   ]
  },
  {
   "cell_type": "code",
   "execution_count": 46,
   "metadata": {},
   "outputs": [],
   "source": [
    "import pandas as pd\n",
    "import matplotlib.pyplot as plt \n",
    "import numpy as np\n",
    "import scipy \n",
    "from scipy import stats\n",
    "import seaborn as sns\n",
    "\n"
   ]
  },
  {
   "cell_type": "code",
   "execution_count": 47,
   "metadata": {},
   "outputs": [
    {
     "name": "stdout",
     "output_type": "stream",
     "text": [
      "['SP1(0).csv', 'SP1(1).csv', 'SP1(2).csv', 'SP1(3).csv', 'SP1(4).csv', 'SP1(5).csv', 'SP1(6).csv', 'SP1(7).csv', 'SP1(8).csv', 'SP1(9).csv', 'SP1(10).csv', 'SP1(11).csv', 'SP1(12).csv', 'SP1(13).csv', 'SP1(14).csv', 'SP1(15).csv', 'SP1(16).csv', 'SP1(17).csv', 'SP1(18).csv', 'SP1(19).csv', 'SP1(20).csv', 'SP1(21).csv', 'SP1(22).csv', 'SP1(23).csv', 'SP1(24).csv', 'SP1(25).csv', 'SP1(26).csv', 'SP1(27).csv', 'SP1(28).csv', 'SP1(29).csv', 'SP1(30).csv']\n"
     ]
    }
   ],
   "source": [
    "archivos=list()\n",
    "for i in range(31):\n",
    "    archivos.append(\"SP1(\"+str(i)+\").csv\")\n",
    "print(archivos)"
   ]
  },
  {
   "cell_type": "code",
   "execution_count": 48,
   "metadata": {},
   "outputs": [],
   "source": [
    "datos_liga=pd.read_csv(\"./datos/\"+archivos[0])"
   ]
  },
  {
   "cell_type": "code",
   "execution_count": 49,
   "metadata": {},
   "outputs": [],
   "source": [
    "for i in range(1,25):\n",
    "    temp=pd.read_csv(\"./datos/\"+archivos[i])\n",
    "    datos_liga=datos_liga.append(temp,ignore_index=True)"
   ]
  },
  {
   "cell_type": "code",
   "execution_count": 50,
   "metadata": {},
   "outputs": [
    {
     "data": {
      "text/plain": [
       "<bound method NDFrame.describe of       Div        Date   Time     HomeTeam     AwayTeam  FTHG  FTAG FTR  HTHG  \\\n",
       "0     SP1  13/08/2021  20:00     Valencia       Getafe     1     0   H     1   \n",
       "1     SP1  14/08/2021  18:30        Cadiz      Levante     1     1   D     0   \n",
       "2     SP1  14/08/2021  18:30     Mallorca        Betis     1     1   D     1   \n",
       "3     SP1  14/08/2021  21:00       Alaves  Real Madrid     1     4   A     0   \n",
       "4     SP1  14/08/2021  21:00      Osasuna      Espanol     0     0   D     0   \n",
       "...   ...         ...    ...          ...          ...   ...   ...  ..   ...   \n",
       "9495  SP1    18/05/08    NaN  Real Madrid      Levante     5     2   H     3   \n",
       "9496  SP1    18/05/08    NaN   Recreativo   Valladolid     1     1   D     0   \n",
       "9497  SP1    18/05/08    NaN    Santander      Osasuna     1     0   H     0   \n",
       "9498  SP1    18/05/08    NaN      Sevilla   Ath Bilbao     4     1   H     1   \n",
       "9499  SP1    18/05/08    NaN     Valencia   Ath Madrid     3     1   H     2   \n",
       "\n",
       "      HTAG  ...   SJA   GBH  GBD    GBA   BSH   BSD    BSA   SBH  SBD    SBA  \n",
       "0        0  ...   NaN   NaN  NaN    NaN   NaN   NaN    NaN   NaN  NaN    NaN  \n",
       "1        1  ...   NaN   NaN  NaN    NaN   NaN   NaN    NaN   NaN  NaN    NaN  \n",
       "2        0  ...   NaN   NaN  NaN    NaN   NaN   NaN    NaN   NaN  NaN    NaN  \n",
       "3        0  ...   NaN   NaN  NaN    NaN   NaN   NaN    NaN   NaN  NaN    NaN  \n",
       "4        0  ...   NaN   NaN  NaN    NaN   NaN   NaN    NaN   NaN  NaN    NaN  \n",
       "...    ...  ...   ...   ...  ...    ...   ...   ...    ...   ...  ...    ...  \n",
       "9495     0  ...  21.0  1.15  6.5  12.00  1.14  6.50  15.00  1.13  6.5  17.00  \n",
       "9496     1  ...   3.6  2.10  3.0   3.60  2.10  3.10   3.30  2.10  3.1   3.30  \n",
       "9497     0  ...   3.0  2.20  3.5   2.75  2.25  3.40   2.75  2.25  3.5   2.70  \n",
       "9498     1  ...   7.0  1.45  4.0   6.25  1.44  3.75   7.00  1.45  4.0   6.25  \n",
       "9499     0  ...   2.5  2.75  3.1   2.40  2.75  3.10   2.40  2.55  3.1   2.55  \n",
       "\n",
       "[9500 rows x 138 columns]>"
      ]
     },
     "execution_count": 50,
     "metadata": {},
     "output_type": "execute_result"
    }
   ],
   "source": [
    "datos_liga.describe\n"
   ]
  },
  {
   "cell_type": "markdown",
   "metadata": {},
   "source": [
    "### Definiendo la pregunta.\n",
    "\n",
    "En este caso nos preguntaremos , con todas tlas temporadas archivadas que tenemos ¿Quiene sería el mejor equipo , el más regular?  \n",
    "Para ello nuestra estrategia será a traves de la columna _FTR_ ,el cual tiene 3 variables , les asignaremos un valor para cuantificar.  \n",
    "Los valores de la columna _FTR_ nos indican de forma cualitativa el resultado del partido:\n",
    " H=Victoria del equipo local  \n",
    " D= empate  \n",
    " A=Victoria del equipo visitante  \n",
    "Para ello asignaremos unas variables númericas según la norma actual de 3 puntos para el equipo que gana , 1 por empate y 0 para el que pierde.\n"
   ]
  },
  {
   "cell_type": "markdown",
   "metadata": {},
   "source": [
    "#### Seleccionando datos\n",
    "\n",
    "Como venimos haciendo nos olvidamos de toda la sección de apuestas , no nos interesan ni fechas ni horarios, y solo tenemos interés por los resultados finales. con todo ello crearemos un nuevo DataFrame con los campos que nos sean útiles para determinar la validez de la hipótesis."
   ]
  },
  {
   "cell_type": "code",
   "execution_count": 51,
   "metadata": {},
   "outputs": [],
   "source": [
    "datos_puntos_totales=datos_liga[[\"Date\",\"Time\",\"HomeTeam\",\"AwayTeam\",\"FTR\"]]\n"
   ]
  },
  {
   "cell_type": "code",
   "execution_count": 52,
   "metadata": {},
   "outputs": [
    {
     "data": {
      "text/plain": [
       "Date        object\n",
       "Time        object\n",
       "HomeTeam    object\n",
       "AwayTeam    object\n",
       "FTR         object\n",
       "dtype: object"
      ]
     },
     "execution_count": 52,
     "metadata": {},
     "output_type": "execute_result"
    }
   ],
   "source": [
    "datos_puntos_totales.dtypes\n",
    "\n"
   ]
  },
  {
   "cell_type": "code",
   "execution_count": 53,
   "metadata": {},
   "outputs": [],
   "source": [
    "datos_puntos_totales=pd.get_dummies(datos_puntos_totales,columns=[\"FTR\"])"
   ]
  },
  {
   "cell_type": "markdown",
   "metadata": {},
   "source": [
    "Podria usar la opción de no usar unas de las variables , ya obligatoriamente si el valor de 2 de las columnas nuevas es 0 la tercera debe ser 1. Pero por ahora lo dejaremos así.\n"
   ]
  },
  {
   "cell_type": "markdown",
   "metadata": {},
   "source": [
    "Ahora hay 2 estrategias posibles a seguir para obtener nuestro objetivo\n",
    "    1-A traves de tabla vardad\n",
    "    2-directamente en el dataframe"
   ]
  },
  {
   "cell_type": "code",
   "execution_count": 54,
   "metadata": {},
   "outputs": [
    {
     "data": {
      "text/plain": [
       "<bound method NDFrame.describe of             Date   Time     HomeTeam     AwayTeam  FTR_A  FTR_D  FTR_H\n",
       "0     13/08/2021  20:00     Valencia       Getafe      0      0      1\n",
       "1     14/08/2021  18:30        Cadiz      Levante      0      1      0\n",
       "2     14/08/2021  18:30     Mallorca        Betis      0      1      0\n",
       "3     14/08/2021  21:00       Alaves  Real Madrid      1      0      0\n",
       "4     14/08/2021  21:00      Osasuna      Espanol      0      1      0\n",
       "...          ...    ...          ...          ...    ...    ...    ...\n",
       "9495    18/05/08    NaN  Real Madrid      Levante      0      0      1\n",
       "9496    18/05/08    NaN   Recreativo   Valladolid      0      1      0\n",
       "9497    18/05/08    NaN    Santander      Osasuna      0      0      1\n",
       "9498    18/05/08    NaN      Sevilla   Ath Bilbao      0      0      1\n",
       "9499    18/05/08    NaN     Valencia   Ath Madrid      0      0      1\n",
       "\n",
       "[9500 rows x 7 columns]>"
      ]
     },
     "execution_count": 54,
     "metadata": {},
     "output_type": "execute_result"
    }
   ],
   "source": [
    "datos_puntos_totales.describe"
   ]
  },
  {
   "cell_type": "markdown",
   "metadata": {},
   "source": [
    "1 obj cambiar valores columna FTR_a *3 y FTR_h por 3"
   ]
  },
  {
   "cell_type": "code",
   "execution_count": null,
   "metadata": {},
   "outputs": [],
   "source": []
  },
  {
   "cell_type": "code",
   "execution_count": 55,
   "metadata": {},
   "outputs": [],
   "source": [
    "datos_puntos_totales[\"FTR_A\"]=datos_puntos_totales[\"FTR_A\"].replace([1],[3])"
   ]
  },
  {
   "cell_type": "code",
   "execution_count": 56,
   "metadata": {},
   "outputs": [],
   "source": [
    "datos_puntos_totales[\"FTR_H\"]=datos_puntos_totales[\"FTR_H\"].replace([1],[3])"
   ]
  },
  {
   "cell_type": "code",
   "execution_count": 57,
   "metadata": {},
   "outputs": [
    {
     "data": {
      "text/plain": [
       "<bound method NDFrame.describe of             Date   Time     HomeTeam     AwayTeam  FTR_A  FTR_D  FTR_H\n",
       "0     13/08/2021  20:00     Valencia       Getafe      0      0      3\n",
       "1     14/08/2021  18:30        Cadiz      Levante      0      1      0\n",
       "2     14/08/2021  18:30     Mallorca        Betis      0      1      0\n",
       "3     14/08/2021  21:00       Alaves  Real Madrid      3      0      0\n",
       "4     14/08/2021  21:00      Osasuna      Espanol      0      1      0\n",
       "...          ...    ...          ...          ...    ...    ...    ...\n",
       "9495    18/05/08    NaN  Real Madrid      Levante      0      0      3\n",
       "9496    18/05/08    NaN   Recreativo   Valladolid      0      1      0\n",
       "9497    18/05/08    NaN    Santander      Osasuna      0      0      3\n",
       "9498    18/05/08    NaN      Sevilla   Ath Bilbao      0      0      3\n",
       "9499    18/05/08    NaN     Valencia   Ath Madrid      0      0      3\n",
       "\n",
       "[9500 rows x 7 columns]>"
      ]
     },
     "execution_count": 57,
     "metadata": {},
     "output_type": "execute_result"
    }
   ],
   "source": [
    "datos_puntos_totales.describe"
   ]
  },
  {
   "cell_type": "markdown",
   "metadata": {},
   "source": [
    "Ahora sumaremos la columna de empate a las otras 2 y tendremos los puntos de cada partido de los equipos visitantes y locales"
   ]
  },
  {
   "cell_type": "code",
   "execution_count": 58,
   "metadata": {},
   "outputs": [],
   "source": [
    "datos_puntos_totales[\"FTR_A\"]=datos_puntos_totales[\"FTR_A\"]+datos_puntos_totales[\"FTR_D\"]"
   ]
  },
  {
   "cell_type": "code",
   "execution_count": 59,
   "metadata": {},
   "outputs": [],
   "source": [
    "datos_puntos_totales[\"FTR_H\"]=datos_puntos_totales[\"FTR_H\"]+datos_puntos_totales[\"FTR_D\"]"
   ]
  },
  {
   "cell_type": "code",
   "execution_count": 60,
   "metadata": {},
   "outputs": [
    {
     "data": {
      "text/plain": [
       "<bound method NDFrame.describe of             Date   Time     HomeTeam     AwayTeam  FTR_A  FTR_D  FTR_H\n",
       "0     13/08/2021  20:00     Valencia       Getafe      0      0      3\n",
       "1     14/08/2021  18:30        Cadiz      Levante      1      1      1\n",
       "2     14/08/2021  18:30     Mallorca        Betis      1      1      1\n",
       "3     14/08/2021  21:00       Alaves  Real Madrid      3      0      0\n",
       "4     14/08/2021  21:00      Osasuna      Espanol      1      1      1\n",
       "...          ...    ...          ...          ...    ...    ...    ...\n",
       "9495    18/05/08    NaN  Real Madrid      Levante      0      0      3\n",
       "9496    18/05/08    NaN   Recreativo   Valladolid      1      1      1\n",
       "9497    18/05/08    NaN    Santander      Osasuna      0      0      3\n",
       "9498    18/05/08    NaN      Sevilla   Ath Bilbao      0      0      3\n",
       "9499    18/05/08    NaN     Valencia   Ath Madrid      0      0      3\n",
       "\n",
       "[9500 rows x 7 columns]>"
      ]
     },
     "execution_count": 60,
     "metadata": {},
     "output_type": "execute_result"
    }
   ],
   "source": [
    "datos_puntos_totales.describe"
   ]
  },
  {
   "cell_type": "code",
   "execution_count": 61,
   "metadata": {},
   "outputs": [],
   "source": [
    "resultados_local=datos_puntos_totales[[\"HomeTeam\",\"FTR_H\"]]\n",
    "resultados_visit=datos_puntos_totales[[\"AwayTeam\",\"FTR_A\"]]\n",
    "resultados_local=resultados_local.rename(columns={\"HomeTeam\":\"Equipo\",\"FTR_H\":\"Puntos\"})\n",
    "resultados_visit=resultados_visit.rename(columns={\"AwayTeam\":\"Equipo\",\"FTR_A\":\"Puntos\"})"
   ]
  },
  {
   "cell_type": "code",
   "execution_count": 62,
   "metadata": {},
   "outputs": [
    {
     "data": {
      "text/plain": [
       "<bound method NDFrame.describe of            Equipo  Puntos\n",
       "0        Valencia       3\n",
       "1           Cadiz       1\n",
       "2        Mallorca       1\n",
       "3          Alaves       0\n",
       "4         Osasuna       1\n",
       "...           ...     ...\n",
       "9495  Real Madrid       3\n",
       "9496   Recreativo       1\n",
       "9497    Santander       3\n",
       "9498      Sevilla       3\n",
       "9499     Valencia       3\n",
       "\n",
       "[9500 rows x 2 columns]>"
      ]
     },
     "execution_count": 62,
     "metadata": {},
     "output_type": "execute_result"
    }
   ],
   "source": [
    "resultados_local.describe"
   ]
  },
  {
   "cell_type": "code",
   "execution_count": 63,
   "metadata": {},
   "outputs": [],
   "source": [
    "clasificacion=pd.concat([resultados_local,resultados_visit],ignore_index=True)\n"
   ]
  },
  {
   "cell_type": "code",
   "execution_count": 64,
   "metadata": {},
   "outputs": [
    {
     "data": {
      "text/plain": [
       "<bound method NDFrame.describe of            Equipo  Puntos\n",
       "0        Valencia       3\n",
       "1           Cadiz       1\n",
       "2        Mallorca       1\n",
       "3          Alaves       0\n",
       "4         Osasuna       1\n",
       "...           ...     ...\n",
       "18995     Levante       0\n",
       "18996  Valladolid       1\n",
       "18997     Osasuna       0\n",
       "18998  Ath Bilbao       0\n",
       "18999  Ath Madrid       0\n",
       "\n",
       "[19000 rows x 2 columns]>"
      ]
     },
     "execution_count": 64,
     "metadata": {},
     "output_type": "execute_result"
    }
   ],
   "source": [
    "clasificacion.describe"
   ]
  },
  {
   "cell_type": "markdown",
   "metadata": {},
   "source": [
    "resultados_local_2=datos_puntos_totales.groupby([\"HomeTeam\"]).sum()"
   ]
  },
  {
   "cell_type": "code",
   "execution_count": 65,
   "metadata": {},
   "outputs": [],
   "source": [
    "clasificacion=clasificacion.groupby([\"Equipo\"]).sum()\n"
   ]
  },
  {
   "cell_type": "code",
   "execution_count": 69,
   "metadata": {},
   "outputs": [
    {
     "data": {
      "text/html": [
       "<div>\n",
       "<style scoped>\n",
       "    .dataframe tbody tr th:only-of-type {\n",
       "        vertical-align: middle;\n",
       "    }\n",
       "\n",
       "    .dataframe tbody tr th {\n",
       "        vertical-align: top;\n",
       "    }\n",
       "\n",
       "    .dataframe thead th {\n",
       "        text-align: right;\n",
       "    }\n",
       "</style>\n",
       "<table border=\"1\" class=\"dataframe\">\n",
       "  <thead>\n",
       "    <tr style=\"text-align: right;\">\n",
       "      <th></th>\n",
       "      <th>Puntos</th>\n",
       "    </tr>\n",
       "    <tr>\n",
       "      <th>Equipo</th>\n",
       "      <th></th>\n",
       "    </tr>\n",
       "  </thead>\n",
       "  <tbody>\n",
       "    <tr>\n",
       "      <th>Barcelona</th>\n",
       "      <td>2219</td>\n",
       "    </tr>\n",
       "    <tr>\n",
       "      <th>Real Madrid</th>\n",
       "      <td>2185</td>\n",
       "    </tr>\n",
       "    <tr>\n",
       "      <th>Ath Madrid</th>\n",
       "      <td>1843</td>\n",
       "    </tr>\n",
       "    <tr>\n",
       "      <th>Sevilla</th>\n",
       "      <td>1578</td>\n",
       "    </tr>\n",
       "    <tr>\n",
       "      <th>Valencia</th>\n",
       "      <td>1457</td>\n",
       "    </tr>\n",
       "    <tr>\n",
       "      <th>Villarreal</th>\n",
       "      <td>1365</td>\n",
       "    </tr>\n",
       "    <tr>\n",
       "      <th>Ath Bilbao</th>\n",
       "      <td>1340</td>\n",
       "    </tr>\n",
       "    <tr>\n",
       "      <th>Sociedad</th>\n",
       "      <td>1196</td>\n",
       "    </tr>\n",
       "    <tr>\n",
       "      <th>Getafe</th>\n",
       "      <td>1045</td>\n",
       "    </tr>\n",
       "    <tr>\n",
       "      <th>Espanol</th>\n",
       "      <td>1040</td>\n",
       "    </tr>\n",
       "    <tr>\n",
       "      <th>Betis</th>\n",
       "      <td>952</td>\n",
       "    </tr>\n",
       "    <tr>\n",
       "      <th>Levante</th>\n",
       "      <td>903</td>\n",
       "    </tr>\n",
       "    <tr>\n",
       "      <th>Celta</th>\n",
       "      <td>849</td>\n",
       "    </tr>\n",
       "    <tr>\n",
       "      <th>Malaga</th>\n",
       "      <td>832</td>\n",
       "    </tr>\n",
       "    <tr>\n",
       "      <th>Osasuna</th>\n",
       "      <td>770</td>\n",
       "    </tr>\n",
       "    <tr>\n",
       "      <th>Granada</th>\n",
       "      <td>680</td>\n",
       "    </tr>\n",
       "    <tr>\n",
       "      <th>La Coruna</th>\n",
       "      <td>597</td>\n",
       "    </tr>\n",
       "    <tr>\n",
       "      <th>Eibar</th>\n",
       "      <td>557</td>\n",
       "    </tr>\n",
       "    <tr>\n",
       "      <th>Mallorca</th>\n",
       "      <td>541</td>\n",
       "    </tr>\n",
       "    <tr>\n",
       "      <th>Vallecano</th>\n",
       "      <td>526</td>\n",
       "    </tr>\n",
       "    <tr>\n",
       "      <th>Valladolid</th>\n",
       "      <td>469</td>\n",
       "    </tr>\n",
       "    <tr>\n",
       "      <th>Alaves</th>\n",
       "      <td>439</td>\n",
       "    </tr>\n",
       "    <tr>\n",
       "      <th>Sp Gijon</th>\n",
       "      <td>391</td>\n",
       "    </tr>\n",
       "    <tr>\n",
       "      <th>Almeria</th>\n",
       "      <td>344</td>\n",
       "    </tr>\n",
       "    <tr>\n",
       "      <th>Zaragoza</th>\n",
       "      <td>327</td>\n",
       "    </tr>\n",
       "    <tr>\n",
       "      <th>Santander</th>\n",
       "      <td>291</td>\n",
       "    </tr>\n",
       "    <tr>\n",
       "      <th>Elche</th>\n",
       "      <td>276</td>\n",
       "    </tr>\n",
       "    <tr>\n",
       "      <th>Leganes</th>\n",
       "      <td>273</td>\n",
       "    </tr>\n",
       "    <tr>\n",
       "      <th>Las Palmas</th>\n",
       "      <td>210</td>\n",
       "    </tr>\n",
       "    <tr>\n",
       "      <th>Girona</th>\n",
       "      <td>139</td>\n",
       "    </tr>\n",
       "    <tr>\n",
       "      <th>Cadiz</th>\n",
       "      <td>127</td>\n",
       "    </tr>\n",
       "    <tr>\n",
       "      <th>Huesca</th>\n",
       "      <td>101</td>\n",
       "    </tr>\n",
       "    <tr>\n",
       "      <th>Recreativo</th>\n",
       "      <td>77</td>\n",
       "    </tr>\n",
       "    <tr>\n",
       "      <th>Hercules</th>\n",
       "      <td>70</td>\n",
       "    </tr>\n",
       "    <tr>\n",
       "      <th>Cordoba</th>\n",
       "      <td>40</td>\n",
       "    </tr>\n",
       "    <tr>\n",
       "      <th>Tenerife</th>\n",
       "      <td>36</td>\n",
       "    </tr>\n",
       "    <tr>\n",
       "      <th>Numancia</th>\n",
       "      <td>35</td>\n",
       "    </tr>\n",
       "    <tr>\n",
       "      <th>Xerez</th>\n",
       "      <td>34</td>\n",
       "    </tr>\n",
       "    <tr>\n",
       "      <th>Murcia</th>\n",
       "      <td>30</td>\n",
       "    </tr>\n",
       "  </tbody>\n",
       "</table>\n",
       "</div>"
      ],
      "text/plain": [
       "             Puntos\n",
       "Equipo             \n",
       "Barcelona      2219\n",
       "Real Madrid    2185\n",
       "Ath Madrid     1843\n",
       "Sevilla        1578\n",
       "Valencia       1457\n",
       "Villarreal     1365\n",
       "Ath Bilbao     1340\n",
       "Sociedad       1196\n",
       "Getafe         1045\n",
       "Espanol        1040\n",
       "Betis           952\n",
       "Levante         903\n",
       "Celta           849\n",
       "Malaga          832\n",
       "Osasuna         770\n",
       "Granada         680\n",
       "La Coruna       597\n",
       "Eibar           557\n",
       "Mallorca        541\n",
       "Vallecano       526\n",
       "Valladolid      469\n",
       "Alaves          439\n",
       "Sp Gijon        391\n",
       "Almeria         344\n",
       "Zaragoza        327\n",
       "Santander       291\n",
       "Elche           276\n",
       "Leganes         273\n",
       "Las Palmas      210\n",
       "Girona          139\n",
       "Cadiz           127\n",
       "Huesca          101\n",
       "Recreativo       77\n",
       "Hercules         70\n",
       "Cordoba          40\n",
       "Tenerife         36\n",
       "Numancia         35\n",
       "Xerez            34\n",
       "Murcia           30"
      ]
     },
     "execution_count": 69,
     "metadata": {},
     "output_type": "execute_result"
    }
   ],
   "source": [
    "clasificacion.sort_values(by=[\"Puntos\"],ascending=False)"
   ]
  },
  {
   "cell_type": "markdown",
   "metadata": {},
   "source": [
    "operar directamente con el group by , hacer un filtro de valor y sacar los tops\n"
   ]
  },
  {
   "cell_type": "markdown",
   "metadata": {},
   "source": [
    "para standarizar , usar el spring 7 parte 2 y normalizar los datos."
   ]
  },
  {
   "cell_type": "markdown",
   "metadata": {},
   "source": [
    "### Estandariza que es gerundio\n",
    "Cogeremos los datos que habiamos empleado en el Spring 7 y los esandarizaremos."
   ]
  }
 ],
 "metadata": {
  "interpreter": {
   "hash": "7a4880536bc750f262d1b458e4fd4d611315d3098d58b77bd9c89b3237b9ab47"
  },
  "kernelspec": {
   "display_name": "Python 3.9.7 ('base')",
   "language": "python",
   "name": "python3"
  },
  "language_info": {
   "codemirror_mode": {
    "name": "ipython",
    "version": 3
   },
   "file_extension": ".py",
   "mimetype": "text/x-python",
   "name": "python",
   "nbconvert_exporter": "python",
   "pygments_lexer": "ipython3",
   "version": "3.9.7"
  },
  "orig_nbformat": 4
 },
 "nbformat": 4,
 "nbformat_minor": 2
}
